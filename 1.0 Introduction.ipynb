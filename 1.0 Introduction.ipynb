{
 "cells": [
  {
   "cell_type": "markdown",
   "metadata": {},
   "source": [
    "# 1.0 Introduction\n",
    "\n",
    "\n",
    "**Data = Model + Error**\n",
    "\n",
    "Modelling user behavior is about data\n",
    "\n",
    "\n",
    "## Objectives of this tutorial\n",
    "\n",
    "* Discovering a data science environment\n",
    "* Manipulating and visualizing data from psychophysiological data\n",
    "\n",
    "\n",
    "## Python\n",
    "\n",
    "* Python is almost pseudo-code\n",
    "* Very suited for data science\n",
    "* Very popular, large community, plently of ressources\n",
    "* Useful\n",
    "\n",
    "Example of ressources :\n",
    "\n",
    "https://docs.python.org/3/tutorial/index.html\n",
    "\n",
    "https://jakevdp.github.io/PythonDataScienceHandbook/\n"
   ]
  },
  {
   "cell_type": "code",
   "execution_count": 8,
   "metadata": {},
   "outputs": [
    {
     "name": "stdout",
     "output_type": "stream",
     "text": [
      "16\n",
      "4 is not enough !\n"
     ]
    }
   ],
   "source": [
    "foo = 2 + 2\n",
    "\n",
    "def bar(x):\n",
    "    return x**2\n",
    "\n",
    "def show_result(res):\n",
    "    if res > 10:\n",
    "        print(res)\n",
    "    else:\n",
    "        print(\"{} is not enough !\".format(res))\n",
    "\n",
    "show_result(bar(4))\n",
    "show_result(bar(2))\n",
    "\n"
   ]
  },
  {
   "cell_type": "code",
   "execution_count": 13,
   "metadata": {},
   "outputs": [
    {
     "name": "stdout",
     "output_type": "stream",
     "text": [
      "[1, 2, 6, 9, 22]\n"
     ]
    }
   ],
   "source": [
    "a_list = [2, 9, 6, 1, 22]\n",
    "a_list.sort()\n",
    "print(a_list)"
   ]
  },
  {
   "cell_type": "code",
   "execution_count": 16,
   "metadata": {},
   "outputs": [
    {
     "name": "stdout",
     "output_type": "stream",
     "text": [
      "21\n"
     ]
    }
   ],
   "source": [
    "class UnBidule():\n",
    "    \n",
    "    a = 0\n",
    "    \n",
    "    def __init__(self, a):\n",
    "        self.a = a\n",
    "        \n",
    "    def decrement_a(self):\n",
    "        self.a -= 1\n",
    "        \n",
    "\n",
    "bidule = UnBidule(22)\n",
    "bidule.decrement_a()\n",
    "\n",
    "print(bidule.a)"
   ]
  }
 ],
 "metadata": {
  "kernelspec": {
   "display_name": "Python 3",
   "language": "python",
   "name": "python3"
  },
  "language_info": {
   "codemirror_mode": {
    "name": "ipython",
    "version": 3
   },
   "file_extension": ".py",
   "mimetype": "text/x-python",
   "name": "python",
   "nbconvert_exporter": "python",
   "pygments_lexer": "ipython3",
   "version": "3.7.3"
  }
 },
 "nbformat": 4,
 "nbformat_minor": 2
}
