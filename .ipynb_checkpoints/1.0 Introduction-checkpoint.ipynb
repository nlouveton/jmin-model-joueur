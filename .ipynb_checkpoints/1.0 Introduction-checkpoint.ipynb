{
 "cells": [
  {
   "cell_type": "markdown",
   "metadata": {},
   "source": [
    "# Applied Lecture 1.0 Introduction\n",
    "\n",
    "\n",
    "**Data = Model + Error**\n",
    "\n",
    "Modelling user behavior is about data\n",
    "\n",
    "\n",
    "## Objectives of this lecture\n",
    "\n",
    "* Discovering a data science environment\n",
    "* Manipulating and visualizing data from psychophysiological data\n",
    "\n",
    "\n",
    "## Python\n",
    "\n",
    "* Python is almost pseudo-code\n",
    "* Very suited for data science\n",
    "* Very popular, large community\n",
    "* Useful\n",
    "\n"
   ]
  },
  {
   "cell_type": "code",
   "execution_count": null,
   "metadata": {},
   "outputs": [],
   "source": []
  }
 ],
 "metadata": {
  "kernelspec": {
   "display_name": "Python 3",
   "language": "python",
   "name": "python3"
  },
  "language_info": {
   "codemirror_mode": {
    "name": "ipython",
    "version": 3
   },
   "file_extension": ".py",
   "mimetype": "text/x-python",
   "name": "python",
   "nbconvert_exporter": "python",
   "pygments_lexer": "ipython3",
   "version": "3.7.3"
  }
 },
 "nbformat": 4,
 "nbformat_minor": 2
}
